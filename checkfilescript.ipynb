{
  "nbformat": 4,
  "nbformat_minor": 0,
  "metadata": {
    "colab": {
      "name": "checkfilescript.ipynb",
      "provenance": []
    },
    "kernelspec": {
      "name": "python3",
      "display_name": "Python 3"
    }
  },
  "cells": [
    {
      "cell_type": "code",
      "metadata": {
        "id": "SiQGIJsldLrY",
        "colab_type": "code",
        "colab": {}
      },
      "source": [
        "def checkfile():\n",
        "  filename = input('Type the name of the file:')\n",
        "  url = input('Input the url:')\n",
        "  doc = open(filename).read()\n",
        "  lines = []\n",
        "  num = doc.count(url)\n",
        "  if url in doc:\n",
        "    wo = 'First Occurrence: %s' % url\n",
        "    lines.append(wo)\n",
        "  result = ('Occurrence Found: %s' % num, lines[0])\n",
        "  return result"
      ],
      "execution_count": 1,
      "outputs": []
    },
    {
      "cell_type": "code",
      "metadata": {
        "id": "Wx6Y2E9BdQKr",
        "colab_type": "code",
        "colab": {}
      },
      "source": [
        "checkfile()"
      ],
      "execution_count": null,
      "outputs": []
    }
  ]
}